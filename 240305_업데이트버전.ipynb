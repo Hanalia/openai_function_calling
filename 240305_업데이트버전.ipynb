{
 "cells": [
  {
   "cell_type": "code",
   "execution_count": 36,
   "metadata": {},
   "outputs": [],
   "source": [
    "## 먼저 데이터 불러오기\n",
    "import json\n",
    "import pandas as pd\n",
    "\n",
    "# Step 1: Load the JSON data from the file\n",
    "file_path = 'test.json'  # Replace this with the path to your JSON file\n",
    "input_list = []\n",
    "with open(file_path, 'r', encoding='utf-8') as file:\n",
    "    json_data = json.load(file)\n",
    "\n",
    "for item in json_data[:3]:\n",
    "    input_list.append(item['text'])"
   ]
  },
  {
   "cell_type": "code",
   "execution_count": 37,
   "metadata": {},
   "outputs": [
    {
     "data": {
      "text/plain": [
       "[\"엔트리움\\r회사개요\\r대표자 (생년) 정세영 (1973년)\\r\\r설립일\\r\\r2013. 2. 1\\rsnuven@ntrium.com\\r\\rWebsite\\r\\rwww.ntrium.com\\r\\rE-mail\\r\\r운영사명\\r\\r캡스톤파트너스\\r\\r팁스 선정월\\r\\r사업화 단계 시리즈 B : 시장확대\\r\\r분\\r\\r소재지\\r\\r2013. 8월\\r경기 화성시\\r\\r야\\r\\r전기ㆍ전자 - 디스플레이 - 디스플레이 부품 및 소재\\r\\r사 업 명\\r\\r비등방성 전도성 접착필름(ACF)용 도전성 입자 국산화\\r\\r사업내용\\r\\r? 나노융합소재 연구개발\\r- 모바일기기, 반도체, 디스플레이 등 첨단 IT 제품용 핵심 나노소재 기술보유\\r- 약물전달 시스템용 나노입자 개발 : 표적항암제 등 바이오 제약분야 기초기술 보유\\r- 전기전도성 소재, 열전도성 소재, 전자파차폐 소재 개발 및 사업화\\r수익창출 도전성 입자, EMI 차폐소재 등 납품을 통한 수익창출\\r주요고객 SK하이닉스, UPAK(대만), SUNA(중국), 삼성전자, 앰코코리아,\\r\\r애플, ISC(한국), TSE(한국), H&S하이텍(한국), 회명산업 등\\r\\r비즈니스\\r모\\r델\\r\\r주요채널 국내외 고객사 직접 거래(B2B)\\r핵심활동 도전성 입자 개발 및 이를 활용한 EMI 차폐소재 개발 및 납품 중\\r\\r본딩 필름, 자외선 차단 필름 등 협업 개발 및 납품 중\\r해외진출 대만 고객사에 공급 중이며, 중국, 미국, 유럽, 일본 등 제품 평가 중\\r\\r사\\r\\r16년 약 12만 달러, 17년 약 15만 달러, 18년 24만 달러 수출\\r\\r업\\r후속투자 122.3억원\\r고용창출 (선정당시) 5명 -> ('22) 27명\\r논문 및 특허 (특허) 국내외 출원 및 등록 38건\\r매\\r출 (‘22) 48억원\\r기\\r타 2014. 9. 소재부품기술개발사업 선정(투자자연계형-3년간 총 18억),\\r\\r개\\r요\\r\\r주요성과\\r\\r2015. 1.\\r2016.12.\\r2017. 3.\\r2017. 7.\\r2017. 7.\\r2017. 7.\\r2017. 8.\\r2017. 9.\\r2017.12.\\r2018. 7.\\r2018.11.\\r2018.12.\\r2019. 3.\\r2019. 5.\\r\\r과제 연계 투자 35억 유치(산업은행, 캡스톤, SV인베스트)\\r추가 투자 유치(기업은행 등 총 9.8억)\\rSK하이닉스 기술혁신 기업 선정(소재 기업 최초 선정)\\r소재부품기술개발사업 신규 선정(3년간 총 21억)\\r과제 연계 투자 10.5억 유치(대경창투, SJ인베스트)\\r나노기술상용화 우수 공로상 수상(한국산업기술진흥원)\\r전략적핵심기술사업과제 신규 선정(5년간 총 75억\\r추가 투자 유치(대경창투, SJ투자 파트너스 10.5억)\\rCBF(도전성 본딩 필름) 중국 시장 진출\\r삼성 갤럭시 노트9 용 공정필름 양산 승인\\rTIPS 그랜드 컨벤션 수출 부문 우수상(중소벤처기업부장관)\\r벤처.창업진흥 대통령 표창\\r캡스톤파트너스, 한국벤처투자로부터 투자 유치 : 총 30억\\r오토모티브용 전자파차단 소재 유럽 시장 첫 진출\\r\\r사\\r진\\r전자파차폐 페이스트 (SK하이닉스 등 납품중)\\r\\r도전성 입자(반도체, 디스플레이용)\\r\\r팁스(TIPS) 창업기업 세부현황 D/B ?\",\n",
       " '프라센\\r회사개요\\r대표자 (생년) 우효준 (1984년)\\rWebsite\\r\\rwww.frasen.com\\r\\r운영사명\\r\\r패스트트랙아시아\\r\\r야\\r\\r2010. 3. 8\\r\\rE-mail\\r\\rhyojunwoo@frasen.com\\r\\r팁스 선정월\\r\\r사업화 단계 시리즈 A : 시장출시\\r\\r분\\r\\r설립일\\r\\r소재지\\r\\r2013. 8월\\r서울 강남구\\r\\r지식서비스 - 부가가치/사후관리서비스 - 문화-의료-환경기반 지식표현/지능형 융합서비스기술\\r\\r사 업 명\\r\\r개인화 수면 유도 장치 및 수면 관리 서비스\\r\\r? 사용자의 휴식 및 수면을 유도하고 생체 신호 빅데이터를 수집하는 하드웨어\\r\\r사업내용\\r\\r제품과 이를 분석하여 개인화된 사용자 컨텍스트를 제공하는 맞춤형\\r소프트웨어 기술이 융합된 기술력을 활용한 서비스를 개발\\r\\r사\\r수익창출 휴식 및 수면 안대 판매와 서비스 이용료\\r\\r업\\r개\\r\\r비즈니스\\r모\\r\\r델\\r\\r요\\r\\r주요고객 피로 충전, 얕은 수면 및 불규칙한 수면에 불편을 겪고 있는 사람\\r주요채널 B2B-호텔, 항공사, 침구류, 기업. B2C-비지니스맨, 여행객, 학생\\r핵심활동 Indiegogo(마케팅), 실리콘벨리 nomad, nesting, 베타 제품 출시\\r해외진출 미국 법인 설립. 제조 및 유통 기반을 위한 기반 마련.\\r\\r후속투자\\r\\r주요성과\\r\\r3억원\\r\\r논문 및 특허 (특허) 국내외 출원 및 등록 11건\\r기\\r\\r타 해외법인(미국) 설립(‘14.12월)\\r\\r제\\r품\\rㆍ\\r서\\r비\\r스\\r사\\r진\\r\\r? TECH INCUBATOR PROGRAM FOR STARTUP',\n",
       " \"위브랩\\r회사개요\\r대표자 (생년) 김동욱 (1977년)\\rWebsite\\r\\rwww.wivlabs.com\\r\\r운영사명\\r\\r카카오벤처스\\r\\r2013. 8. 6\\r\\rE-mail\\r\\rdkim@wivlabs.com\\r\\r팁스 선정월\\r\\r사업화 단계 시리즈 B : 시장확대\\r\\r분\\r\\r설립일\\r\\r야\\r\\r소재지\\r\\r2013. 8월\\r서울 강남구 (팁스타운)\\r\\r정보통신 ? 소프트웨어 ? Internet SW\\r\\r사 업 명\\r\\r소셜 Q&A 서비스 개발\\r? 페이스북 DB를 기반으로 한 자동 Audience Targeting 생성 프로세스 개발\\r? 자동 Audience Targeting 생성 프로세스를 기반으로 페이스북 광고 플랫폼 시스템 개발\\r\\r사업내용\\r\\r- 최적의 광고 조건을 찾는 프로세스 자동화\\r- 광고 리포팅 시스템 개발\\r- 광고 집행 프로세스의 자동화\\r- 오픈베타 서비스 오픈 및 서비스 정식 오픈\\r\\r사\\r업\\r개\\r요\\r\\r비즈니스\\r모\\r\\r수익창출\\r\\r광고 플랫폼 이용 수수료\\r\\r주요고객\\r\\r페이스북, 인스타그램, 구글 광고를 원하는 광고주\\r\\r주요채널\\r\\r페이스북, 구글\\r\\r핵심활동\\r\\r- 정기적인 자동 Audience Targeting 생성 프로세스 업데이트\\r- 광고 매체 데이터 분석을 통한 지표 관리 및 광고 단가 최적화\\r\\r델\\r\\r- 광고 운영 효율 강화를 위한 다양한 유닛 개발 및 활용\\r- 다양한 지표 데이터 분석을 통한 통계 및 리포팅 생성\\r해외진출\\r\\r해외의 게임 퍼블리싱 회사 및 국내의 해외 진출 게임을\\r중심으로 글로벌 페이스북 마케팅 시장 진출\\r\\r고용창출\\r\\r주요성과\\r\\r(선정당시) 5명 -> ('22) 14명\\r\\r매\\r\\r출 (‘22) 82억원\\r\\r기\\r\\r타 광고 플랫폼 AD1SHOT, Eventy 오픈 및\\r\\r광고 최적화 시스템 등을 통하여 매출 발생\\r\\r제\\r품\\rㆍ\\r서\\r비\\r스\\r사\\r진\\r\\r팁스(TIPS) 창업기업 세부현황 D/B ?\"]"
      ]
     },
     "execution_count": 37,
     "metadata": {},
     "output_type": "execute_result"
    }
   ],
   "source": [
    "## 실제로 데이터가 보이는지 확인\n",
    "input_list"
   ]
  },
  {
   "cell_type": "code",
   "execution_count": 38,
   "metadata": {},
   "outputs": [],
   "source": [
    "OPENAI_KEY = \"\"\n",
    "from openai import OpenAI\n",
    "\n",
    "client = OpenAI(\n",
    "  api_key=OPENAI_KEY,\n",
    ")"
   ]
  },
  {
   "cell_type": "code",
   "execution_count": 39,
   "metadata": {},
   "outputs": [],
   "source": [
    "gpt_functions_2 = [\n",
    "    {\n",
    "        'name': 'extract_company_info',\n",
    "        'description': 'Get the company information from the body of the input text. information should be in korean',\n",
    "        'parameters': {\n",
    "            'type': 'object',\n",
    "            'properties': {\n",
    "                'business_name': {\n",
    "                    'type': 'string',\n",
    "                    'description': 'Official registered business name.'\n",
    "                },\n",
    "\n",
    "                'email': {\n",
    "                    'type': 'string',\n",
    "                    'format': 'email',\n",
    "                    'description': 'Contact email address for the company.'\n",
    "                },\n",
    "                'representative': {\n",
    "                    'type': 'string',\n",
    "                    'description': 'Name of the company representative.'\n",
    "                },\n",
    "                'website': {\n",
    "                    'type': 'string',\n",
    "                    'description': 'Official website of the company.'\n",
    "                },\n",
    "\n",
    "                'establishment_date': {\n",
    "                    'type': 'string',  # Could be 'date' in specific formats\n",
    "                    'description': 'The date when the company was established.'\n",
    "                },\n",
    "\n",
    "                'location': {\n",
    "                    'type': 'string',\n",
    "                    'description': 'Location of the company headquarters.'\n",
    "                },\n",
    "                'business_model': {\n",
    "                    'type': 'string',\n",
    "                    'description': 'The business model used by the company.'\n",
    "                },\n",
    "                'business_stage': {\n",
    "                    'type': 'string',\n",
    "                    'description': 'Current stage of business operations.'\n",
    "                },\n",
    "                'business_content': {\n",
    "                    'type': 'string',\n",
    "                    'description': 'Description of the business activities.'\n",
    "                },\n",
    "                'industry_field': {\n",
    "                    'type': 'string',\n",
    "                    'description': 'industry or field of the business.'\n",
    "                },\n",
    "\n",
    "\n",
    "\n",
    "            }\n",
    "        }\n",
    "    }\n",
    "]"
   ]
  },
  {
   "cell_type": "code",
   "execution_count": 45,
   "metadata": {},
   "outputs": [],
   "source": [
    "\n",
    "import time\n",
    "import requests\n",
    "\n",
    "## output is dict response\n",
    "def get_response_with_retry(client, item, max_retries=3, delay=2):\n",
    "    retries = 0\n",
    "    while True:\n",
    "        try:\n",
    "            response = client.chat.completions.create(\n",
    "                model='gpt-3.5-turbo',\n",
    "                messages=[{'role': 'user', 'content': item}],\n",
    "                functions=gpt_functions_2,\n",
    "                function_call='auto'\n",
    "            )\n",
    "            \n",
    "            # Assuming the API returns a JSON string that we want to parse\n",
    "            dict_response = json.loads(response.choices[0].message.function_call.arguments)  # This line will raise JSONDecodeError if the response is not valid JSON\n",
    "            return dict_response\n",
    "            \n",
    "        except Exception as e:\n",
    "            # Catching all exceptions and retrying\n",
    "            print(f\"An exception occurred: {e}\")\n",
    "            retries += 1\n",
    "            if retries >= max_retries:\n",
    "                raise  # Re-raise the last exception after exceeding max retries\n",
    "            print(f\"Retrying in {delay} seconds...\")\n",
    "            time.sleep(delay)\n",
    "\n",
    "# Usage of get_response_with_retry within the loop (example)\n",
    "processed_list = []\n",
    "for item in input_list:\n",
    "    try:\n",
    "        json_response = get_response_with_retry(client, item)\n",
    "        processed_list.append(json_response)  # Append successful responses\n",
    "    except Exception as e:\n",
    "        print(f\"Failed to process item after retries: {e}\")\n",
    "\n",
    "\n"
   ]
  },
  {
   "cell_type": "code",
   "execution_count": 46,
   "metadata": {},
   "outputs": [],
   "source": [
    "df = pd.DataFrame(processed_list)\n",
    "df.to_excel(\"gpt3.5_240305_2.xlsx\")"
   ]
  }
 ],
 "metadata": {
  "kernelspec": {
   "display_name": "Python 3",
   "language": "python",
   "name": "python3"
  },
  "language_info": {
   "codemirror_mode": {
    "name": "ipython",
    "version": 3
   },
   "file_extension": ".py",
   "mimetype": "text/x-python",
   "name": "python",
   "nbconvert_exporter": "python",
   "pygments_lexer": "ipython3",
   "version": "3.11.4"
  }
 },
 "nbformat": 4,
 "nbformat_minor": 2
}
