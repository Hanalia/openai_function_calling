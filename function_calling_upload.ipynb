{
 "cells": [
  {
   "cell_type": "code",
   "execution_count": 16,
   "metadata": {},
   "outputs": [],
   "source": [
    "## 먼저 데이터 불러오기\n",
    "import json\n",
    "import pandas as pd\n",
    "from openai import OpenAI\n",
    "\n",
    "# Step 1: Load the JSON data from the file\n",
    "file_path = 'test.json'  # Replace this with the path to your JSON file\n",
    "input_list = []\n",
    "with open(file_path, 'r', encoding='utf-8') as file:\n",
    "    json_data = json.load(file)\n",
    "\n",
    "for item in json_data:\n",
    "    input_list.append(item['text'])"
   ]
  },
  {
   "cell_type": "code",
   "execution_count": 3,
   "metadata": {},
   "outputs": [
    {
     "data": {
      "text/plain": [
       "[\"엔트리움\\r회사개요\\r대표자 (생년) 정세영 (1973년)\\r\\r설립일\\r\\r2013. 2. 1\\rsnuven@ntrium.com\\r\\rWebsite\\r\\rwww.ntrium.com\\r\\rE-mail\\r\\r운영사명\\r\\r캡스톤파트너스\\r\\r팁스 선정월\\r\\r사업화 단계 시리즈 B : 시장확대\\r\\r분\\r\\r소재지\\r\\r2013. 8월\\r경기 화성시\\r\\r야\\r\\r전기ㆍ전자 - 디스플레이 - 디스플레이 부품 및 소재\\r\\r사 업 명\\r\\r비등방성 전도성 접착필름(ACF)용 도전성 입자 국산화\\r\\r사업내용\\r\\r? 나노융합소재 연구개발\\r- 모바일기기, 반도체, 디스플레이 등 첨단 IT 제품용 핵심 나노소재 기술보유\\r- 약물전달 시스템용 나노입자 개발 : 표적항암제 등 바이오 제약분야 기초기술 보유\\r- 전기전도성 소재, 열전도성 소재, 전자파차폐 소재 개발 및 사업화\\r수익창출 도전성 입자, EMI 차폐소재 등 납품을 통한 수익창출\\r주요고객 SK하이닉스, UPAK(대만), SUNA(중국), 삼성전자, 앰코코리아,\\r\\r애플, ISC(한국), TSE(한국), H&S하이텍(한국), 회명산업 등\\r\\r비즈니스\\r모\\r델\\r\\r주요채널 국내외 고객사 직접 거래(B2B)\\r핵심활동 도전성 입자 개발 및 이를 활용한 EMI 차폐소재 개발 및 납품 중\\r\\r본딩 필름, 자외선 차단 필름 등 협업 개발 및 납품 중\\r해외진출 대만 고객사에 공급 중이며, 중국, 미국, 유럽, 일본 등 제품 평가 중\\r\\r사\\r\\r16년 약 12만 달러, 17년 약 15만 달러, 18년 24만 달러 수출\\r\\r업\\r후속투자 122.3억원\\r고용창출 (선정당시) 5명 -> ('22) 27명\\r논문 및 특허 (특허) 국내외 출원 및 등록 38건\\r매\\r출 (‘22) 48억원\\r기\\r타 2014. 9. 소재부품기술개발사업 선정(투자자연계형-3년간 총 18억),\\r\\r개\\r요\\r\\r주요성과\\r\\r2015. 1.\\r2016.12.\\r2017. 3.\\r2017. 7.\\r2017. 7.\\r2017. 7.\\r2017. 8.\\r2017. 9.\\r2017.12.\\r2018. 7.\\r2018.11.\\r2018.12.\\r2019. 3.\\r2019. 5.\\r\\r과제 연계 투자 35억 유치(산업은행, 캡스톤, SV인베스트)\\r추가 투자 유치(기업은행 등 총 9.8억)\\rSK하이닉스 기술혁신 기업 선정(소재 기업 최초 선정)\\r소재부품기술개발사업 신규 선정(3년간 총 21억)\\r과제 연계 투자 10.5억 유치(대경창투, SJ인베스트)\\r나노기술상용화 우수 공로상 수상(한국산업기술진흥원)\\r전략적핵심기술사업과제 신규 선정(5년간 총 75억\\r추가 투자 유치(대경창투, SJ투자 파트너스 10.5억)\\rCBF(도전성 본딩 필름) 중국 시장 진출\\r삼성 갤럭시 노트9 용 공정필름 양산 승인\\rTIPS 그랜드 컨벤션 수출 부문 우수상(중소벤처기업부장관)\\r벤처.창업진흥 대통령 표창\\r캡스톤파트너스, 한국벤처투자로부터 투자 유치 : 총 30억\\r오토모티브용 전자파차단 소재 유럽 시장 첫 진출\\r\\r사\\r진\\r전자파차폐 페이스트 (SK하이닉스 등 납품중)\\r\\r도전성 입자(반도체, 디스플레이용)\\r\\r팁스(TIPS) 창업기업 세부현황 D/B ?\",\n",
       " '프라센\\r회사개요\\r대표자 (생년) 우효준 (1984년)\\rWebsite\\r\\rwww.frasen.com\\r\\r운영사명\\r\\r패스트트랙아시아\\r\\r야\\r\\r2010. 3. 8\\r\\rE-mail\\r\\rhyojunwoo@frasen.com\\r\\r팁스 선정월\\r\\r사업화 단계 시리즈 A : 시장출시\\r\\r분\\r\\r설립일\\r\\r소재지\\r\\r2013. 8월\\r서울 강남구\\r\\r지식서비스 - 부가가치/사후관리서비스 - 문화-의료-환경기반 지식표현/지능형 융합서비스기술\\r\\r사 업 명\\r\\r개인화 수면 유도 장치 및 수면 관리 서비스\\r\\r? 사용자의 휴식 및 수면을 유도하고 생체 신호 빅데이터를 수집하는 하드웨어\\r\\r사업내용\\r\\r제품과 이를 분석하여 개인화된 사용자 컨텍스트를 제공하는 맞춤형\\r소프트웨어 기술이 융합된 기술력을 활용한 서비스를 개발\\r\\r사\\r수익창출 휴식 및 수면 안대 판매와 서비스 이용료\\r\\r업\\r개\\r\\r비즈니스\\r모\\r\\r델\\r\\r요\\r\\r주요고객 피로 충전, 얕은 수면 및 불규칙한 수면에 불편을 겪고 있는 사람\\r주요채널 B2B-호텔, 항공사, 침구류, 기업. B2C-비지니스맨, 여행객, 학생\\r핵심활동 Indiegogo(마케팅), 실리콘벨리 nomad, nesting, 베타 제품 출시\\r해외진출 미국 법인 설립. 제조 및 유통 기반을 위한 기반 마련.\\r\\r후속투자\\r\\r주요성과\\r\\r3억원\\r\\r논문 및 특허 (특허) 국내외 출원 및 등록 11건\\r기\\r\\r타 해외법인(미국) 설립(‘14.12월)\\r\\r제\\r품\\rㆍ\\r서\\r비\\r스\\r사\\r진\\r\\r? TECH INCUBATOR PROGRAM FOR STARTUP',\n",
       " \"위브랩\\r회사개요\\r대표자 (생년) 김동욱 (1977년)\\rWebsite\\r\\rwww.wivlabs.com\\r\\r운영사명\\r\\r카카오벤처스\\r\\r2013. 8. 6\\r\\rE-mail\\r\\rdkim@wivlabs.com\\r\\r팁스 선정월\\r\\r사업화 단계 시리즈 B : 시장확대\\r\\r분\\r\\r설립일\\r\\r야\\r\\r소재지\\r\\r2013. 8월\\r서울 강남구 (팁스타운)\\r\\r정보통신 ? 소프트웨어 ? Internet SW\\r\\r사 업 명\\r\\r소셜 Q&A 서비스 개발\\r? 페이스북 DB를 기반으로 한 자동 Audience Targeting 생성 프로세스 개발\\r? 자동 Audience Targeting 생성 프로세스를 기반으로 페이스북 광고 플랫폼 시스템 개발\\r\\r사업내용\\r\\r- 최적의 광고 조건을 찾는 프로세스 자동화\\r- 광고 리포팅 시스템 개발\\r- 광고 집행 프로세스의 자동화\\r- 오픈베타 서비스 오픈 및 서비스 정식 오픈\\r\\r사\\r업\\r개\\r요\\r\\r비즈니스\\r모\\r\\r수익창출\\r\\r광고 플랫폼 이용 수수료\\r\\r주요고객\\r\\r페이스북, 인스타그램, 구글 광고를 원하는 광고주\\r\\r주요채널\\r\\r페이스북, 구글\\r\\r핵심활동\\r\\r- 정기적인 자동 Audience Targeting 생성 프로세스 업데이트\\r- 광고 매체 데이터 분석을 통한 지표 관리 및 광고 단가 최적화\\r\\r델\\r\\r- 광고 운영 효율 강화를 위한 다양한 유닛 개발 및 활용\\r- 다양한 지표 데이터 분석을 통한 통계 및 리포팅 생성\\r해외진출\\r\\r해외의 게임 퍼블리싱 회사 및 국내의 해외 진출 게임을\\r중심으로 글로벌 페이스북 마케팅 시장 진출\\r\\r고용창출\\r\\r주요성과\\r\\r(선정당시) 5명 -> ('22) 14명\\r\\r매\\r\\r출 (‘22) 82억원\\r\\r기\\r\\r타 광고 플랫폼 AD1SHOT, Eventy 오픈 및\\r\\r광고 최적화 시스템 등을 통하여 매출 발생\\r\\r제\\r품\\rㆍ\\r서\\r비\\r스\\r사\\r진\\r\\r팁스(TIPS) 창업기업 세부현황 D/B ?\",\n",
       " '시옷플랫폼\\r회사개요\\r대표자 (생년) 오세종 (1966년)\\rWebsite\\r\\r-\\r\\r운영사명\\r\\r카이트창업가재단\\r\\r2010. 8. 8\\r\\rE-mail\\r\\rsejung.oh@siotplatform.com\\r\\r팁스 선정월\\r\\r사업화 단계 시리즈 B : 회수\\r\\r분\\r\\r설립일\\r\\r소재지\\r\\r야\\r\\r2013. 8월\\r대전 유성구 (카이스트 BI)\\r\\r전기전자 ? 계측기기 ? 안전감시/진단 계측제어기\\r\\r사 업 명\\r\\r지능형 무선 복합 인식시스템 개발\\r? 여러 종류의 영상센서(열영상센서와f 이미지센서)와 MEMS 센서를 결합한\\r센서 융합 시스템에서 출력되는 신호를 무선송출 시스템을 통하여 사용자\\r\\r사업내용\\r\\r또는 원거리에 있는 관찰자에게 음성, 영상, 위치 및 고도 정보 등\\r복합적인 정보를 전달하는 시스템을 개발\\r\\r사\\r업\\r개\\r요\\r\\r수익창출 CCTV 등 영상 보안 업체에 하드웨어 및 소프트웨어 공급\\r\\r비즈니스\\r\\r주요고객 CCTV 등 영상 보안 업체\\r\\r모\\r\\r주요채널 B2B\\r\\r델\\r\\r핵심활동 핵심 업체 협력 개발\\r\\r주요성과\\r\\r고용창출\\r기\\r\\r(선정당시) 2명\\r\\r타 양산 보드 시제품 10대 납품(5백만원)\\r\\r제\\r품\\rㆍ\\r서\\r비\\r스\\r사\\r진\\r\\r? TECH INCUBATOR PROGRAM FOR STARTUP',\n",
       " \"에이스틴\\r회사개요\\r대표자 (생년) 황대일 (1972년)\\rWebsite\\r\\r-\\r\\r운영사명\\r\\r카이트창업가재단\\r\\r사업화 단계 시리즈 A : BM 고도화\\r\\r분\\r\\r야\\r\\r설립일\\r\\r2013. 10. 22\\r\\rE-mail\\r\\rhwang@a-stin.com\\r\\r팁스 선정월\\r\\r2013. 10월\\r\\r소재지\\r\\r대전 유성구\\r\\r화학 ? 정밀화학 ? 화장품/소재\\r\\r사 업 명\\r\\r자외선 차단 화장품용 유/무기 하이브리드 복합체 설계 및 제조 기술 개발\\r? 유/무기하이브리드 차외선 차단 소재는 무기물 입자와 유기물을 networking\\r시킨 마이크로 크기의 복합체로 기존에 사용하는 나노 크기 무기물 입자의\\r\\r사업내용\\r\\r인체 유해성 이슈를 해결하고, 높은 자외선 차단효과 및 사용감을\\r개선한 non-nano 자외선 차단 소재를 개발\\r\\r사\\r업\\r개\\r\\r수익창출 신규 자외선 차단 기능성 화장품 소재 판매\\r\\r비즈니스\\r모\\r\\r델\\r\\r주요고객 국내외 화장품 제조업체\\r주요채널 국내 주요 화장품제조사에 직접영업, 지역별 에이전트를 통한 해외 판매\\r핵심활동 국내외 전시회 (‘2015 In-Cosmetics Europe 전시 Booth 운영)\\r\\r요\\r\\r고객사 Direct 기술 소개\\r\\r주요성과\\r\\r후속투자\\r\\r약 42억원\\r\\r고용창출\\r\\r(선정당시) 3명 -> ('22) 9명\\r\\r논문 및 특허 (특허) 국내외 출원 및 등록 19건\\r매\\r\\r출 (‘22) 1.7억원\\r\\r제\\r품\\rㆍ\\r서\\r비\\r스\\r사\\r진\\r\\r팁스(TIPS) 창업기업 세부현황 D/B ?\",\n",
       " '크레스프리\\r회사개요\\r대표자 (생년) 권진만 (1970년)\\r\\r설립일\\r\\r2013. 2. 20\\randrea.kwon@cresprit.com\\r\\rWebsite\\r\\rwww.cresprit.com\\r\\rE-mail\\r\\r운영사명\\r\\r카이트창업가재단\\r\\r팁스 선정월\\r\\r2013. 12월\\r\\r소재지\\r\\r경기 성남시\\r\\r사업화 단계 시리즈 B : 시장확대\\r\\r분\\r\\r야\\r\\r정보통신 - U-컴퓨팅 - U-컴퓨팅 플랫홈 및 응용기술\\r\\r사 업 명\\r\\rJavaScript 기반 Smart Device 개발을 위한 플랫폼 구현\\r? CRESPRIT는 “아이디어의 제품화”라는 컨셉으로 다양한 제품들에 지능과\\r네트워크를 접목하기 위한 IoT 기술 요소들 즉 Connectivity H/W, 서버,\\r웹/앱 SDK 및 개발 환경들을 포함하는 IoT 플랫폼 개발하였습니다.\\r특히, 산업 현장에서 수집되는 고속/고용량의 센서 데이터를 효율적으로\\r\\r사업내용\\r\\r수집/분석/모니터링 할 수 있는 산업용 Speedy One-Stop 팩키지를 제공하여\\r글로벌 제조라인, 건설현장 및 자동차 모니터링 등에 적용 되고 있습니다.\\r? ALOOH Industrial IoT 플랫폼\\r- ALOOH Edge Analyzer: 실시간 아날로그 빅데이터 수집/분석 디바이스\\r- ALOOH IIoT Server: 데이터 수집/분석/모니터링 서버\\r\\r사\\r업\\r\\r수익창출 산업용 IoT 팩키지 판매 (H/W, Server)\\r주요고객 제조라인, 건설현장, 시설관리, 제품품질검사 등\\r\\r개\\r\\r주요채널 B2B 영업, 온라인\\r\\r요\\r\\r비즈니스\\r모\\r\\r핵심활동 ALOOH IoT 플랫폼 론칭\\r\\rALOOH IoT 플랫폼 탑재 스마트 헬스케어 제품 탑재 양산\\r가전 제조라인 스마트 팩토리 모니터링 시스템\\r자동차 부품 원재료 모니터링 시스템\\r엘리베이터 고장 모니터링 시스템\\r건설현장 안전 모니터링 시스템\\r친환경 자동차 배터리 모니터링 시스템 등\\r\\r델\\r\\r논문 및 특허 (특허) 국내외 출원 및 등록 13건\\r\\r주요성과\\r\\r고용창출\\r기\\r\\r(선정당시) 3명\\r\\r타 Startup Engine Silver상 수상 / K-Global 300 선정\\r\\r제\\r품\\rㆍ\\r서\\r비\\r스\\r사\\r진\\r\\rALOOH Edge Analyzer\\rALOOH Industrial IoT Platform\\r\\r? TECH INCUBATOR PROGRAM FOR STARTUP',\n",
       " \"다노\\r회사개요\\r대표자 (생년) 정범윤 (1986년)\\rWebsite\\r\\rwww.dano.me\\r\\r운영사명\\r\\r패스트트랙아시아\\r\\r사업화 단계 시리즈 B : 시장확대\\r\\r분\\r\\r야\\r\\r설립일\\r\\r2013. 7. 11\\r\\rE-mail\\r\\rbmbr@dano.me\\r\\r팁스 선정월\\r\\r2013. 12월\\r\\r소재지\\r\\r서울 마포구\\r\\r정보통신 ? 디지털 컨텐츠 ? 디지털 콘텐츠 제작 및 유통\\r\\r사 업 명\\r\\r다이어트 관련 개인화 추천 컨텐츠 및 관리 시스템\\r? 다이어트를 하는 사람의 생활패턴, 체형, 환경, 직업 등을 고려한 맞춤형\\r체크리스트를 제공하고, 이를 제대로 수행 가능하도록 Micro Manage를 해주고,\\r\\r사업내용\\r\\r주단위로 운동, 식이 상담을 제공하는 앱 서비스 개발\\r- 다노샵(F&B) : 평생 식습관을 위한 건강 식품 생산, 판매 사업\\r- 마이다노(Fitness) : 온라인 퍼스널 트레이너 프로그램.\\r실시간으로 코치와 소통하며 다이어트를 코칭 받는 온라인 서비스\\r\\r사\\r업\\r개\\r요\\r\\r수익창출\\r\\r커머스 매출, 서비스를 통한 매출\\r\\r비즈니스\\r\\r주요고객\\r\\r스마트폰 사용자 중 20~30대 여성 사용자 대상\\r\\r모\\r\\r주요채널\\r\\rSNS(Facebook,Instagram,Youtube) 및 자체 어플리케이션\\r\\r핵심활동\\r\\r앱 서비스 개발, 상담 및 식단/운동 처방, 온라인 전자상거래\\r\\r후속투자\\r\\r123.9억원\\r\\r고용창출\\r\\r(선정당시) 3명 -> ('22) 83명\\r\\r델\\r\\r주요성과\\r\\r논문 및 특허 (특허) 국내외 출원 및 등록 3건\\r매\\r\\r출 (‘22) 84억원\\r\\r제\\r품\\rㆍ\\r서\\r비\\r스\\r사\\r진\\r\\r팁스(TIPS) 창업기업 세부현황 D/B ?\",\n",
       " \"키즈노트\\r회사개요\\r대표자 (생년) 최장욱 (1980년)\\rWebsite\\r\\rwww.kidsnote.com\\r\\r운영사명\\r\\r카카오벤처스\\r\\r사업화 단계 시리즈 B : 회수 (M&A)\\r\\r분\\r\\r야\\r\\r개\\r\\r2012. 4. 26\\r\\rE-mail\\r\\rjykim@kidsnote.com\\r\\r팁스 선정월\\r\\r2013. 12월\\r\\r소재지\\r\\r서울 서초구\\r\\r지식서비스 ? 부가가치/사후관리서비스 - 제품-서비스 유지/운영/사후관리\\r\\r사 업 명\\r\\r영유아 기관 전용 모바일 기반의 ERP 시스템 구축\\r\\r사업내용\\r\\r? 영유아 기관(어린이집, 유치원 등)의 행정 및 학부모와의 의사소통에 특화된 모\\r바일 기반의 ERP, 커뮤니케이션 시스템을 구축하고, 글로벌 시장 진출을 위한\\r서비스 고도화 개발\\r\\r수익창출 영유아 기관 대상 프리미엄(유료 과금) 버전 출시(예정),\\r\\r사\\r업\\r\\r설립일\\r\\r비즈니스\\r모\\r\\r델\\r\\r서비스 내 모바일 광고 솔루션 탑재\\r주요고객 어린이집, 유치원 소속 원장 및 교사, 학부모\\r주요채널 자체 어플리케이션(앱스토어, 안드로이드 마켓 다운로드) 및 웹사이트\\r핵심활동 서비스 개발 및 운영, 관련 시장 개척(영업 및 마케팅\\r\\r요\\r\\r주요성과\\r\\r후속투자\\r\\r296.7억원\\r\\r고용창출\\r\\r(선정당시) 8명 -> ('22) 115명\\r\\r매\\r\\r출 (‘22) 140억원\\r\\r기\\r\\r타 국내시장 압도적 1위, 해외 7개국 사용 시작, 상표 및 디자인 등록 다수\\r\\r제\\r품\\rㆍ\\r서\\r비\\r스\\r사\\r진\\r\\r? TECH INCUBATOR PROGRAM FOR STARTUP\",\n",
       " \"헬스브리즈\\r회사개요\\r대표자 (생년) 정희두 (1972년)\\rWebsite\\r\\rwww.healthbreeze.com\\r\\r운영사명\\r\\r카카오벤처스\\r\\r사업화 단계 시리즈 A: 시장출시\\r\\r분\\r\\r설립일\\r\\r2009. 5. 18\\r\\rE-mail\\r\\rfounder@healthbreeze.com\\r\\r팁스 선정월\\r\\r2013. 12월\\r\\r소재지\\r\\r서울 금천구\\r\\r지식서비스 ? 부가가치사후관리서비스\\r\\r야\\r\\r? 문화-의료 환경기반 지식표현/지능형 융합서비스 기술\\r\\r사 업 명\\r\\r글로벌 애니메이션 설명처방 시스템 개발 및 사업화\\r? 질병/검사/처치 등에 대한 복잡한 의료정보를 알기쉬운 애니메이션으로 제공함\\r- 의료진의 업무효율성 상승, 환자의 이해도와 만족도 증진\\r? Verval/Text기반의 Medical communication을 애니메이션과 Web Vidio서비스\\r\\r사업내용\\r사\\r\\r적용\\r- 의료진과 환자간의 Medical communication Platform 구현\\r? 다수의 의학회와\\r\\rMOU체결\\r\\r- 표준화된 의료용 애니메이션 제작\\r\\r업\\r\\r- 의학회 이러닝 서비스 제공\\r\\r개\\r요\\r비즈니스\\r모\\r\\r델\\r\\r주요성과\\r\\r수익창출\\r\\r병원애니메이션 사용료 및 전송료,의학회 이러닝/맞춤형광고\\r\\r주요고객\\r\\r의료진(병원, 의사, 간호사), 의학회, 제약회사, 의료기기회사\\r\\r주요채널\\r\\rHealthBreeze App., 의료정보 시스템용 API, 의학회 이러닝사이트\\r\\r핵심활동\\r\\rMedical Animation제작/ 애니메이션 설명처방시스템 개발\\r\\r해외진출\\r\\r북경의대출판부 자회사 MedTime, 중국 총판 계약체결(2018. 04)\\r\\r후속투자\\r\\r15.5억원\\r\\r고용창출\\r\\r(선정당시) 12명 -> ('22) 16명\\r\\r논문 및 특허 (특허) 국내외 출원 및 등록 1건\\r매\\r\\r출 (‘22) 13억원\\r\\r제\\r품\\rㆍ\\r서\\r비\\r스\\r사\\r진\\r\\r팁스(TIPS) 창업기업 세부현황 D/B ?\",\n",
       " \"라이클\\r회사개요\\r대표자 (생년) 전지훈 (1985년)\\rWebsite\\r\\rwww.unpa.co.kr\\r\\r운영사명\\r\\r프라이머\\r\\r2012. 11. 8\\r\\rE-mail\\r\\rleo.jeon@lycl.co.kr\\r\\r팁스 선정월\\r\\r사업화 단계 시리즈 B : 시장확대\\r\\r분\\r\\r설립일\\r\\r야\\r\\r소재지\\r\\r2014. 2월\\r서울 강남구\\r\\r정보통신 ? 디지털 콘텐츠 ? 디지털 콘텐츠 제작 및 유통\\r\\r사 업 명\\r\\r뷰티 SNS 기반 화장품 소셜 리뷰 서비스\\r? 언니의파우치는 '화장품 소셜 리뷰 서비스'입니다. '뷰티 버티컬 SNS‘를 이용해서\\r양질의 리뷰를 빠르게 모으고 상업적인 리뷰는 걸러냅니다. 또한 개인에게 맞는\\r리뷰를 추천하는 기술을 통해 믿을 수 있는 화장품 정보를 제공합니다.\\r? 2016.5, 커머스 서비스를 론칭, 고평점의 국내외 화장품 판매를 시작하였으며 이를 통해\\r\\r사업내용\\r\\r화장품 정보 검색부터 구매까지 국내 유일의 원스톱 뷰티 서비스로 진화하였습니다.\\r? 2017년에는 언니의파우치 내의 뷰티 빅데이터와 뷰티 매니아들의 인사이트를\\r결합, 언파코스메틱 화장품 브랜드를 출시하였습니다. 현재까지 약 2년간\\r총 100만개 이상의 제품을 판매하였으며, 일본 돈키호테 등 4천여개점/미국 노드스트롬,\\r\\r사\\r\\r싱가포르 왓슨스 등 글로벌 주요 국가로의 수출을 빠르게 확대하고 있습니다.\\r수익창출\\r\\r서비스 내 광고 모델, 위탁 판매(커머스) 모델 도입, PB 개발판매\\r\\r비즈니스\\r\\r주요고객\\r\\r18~30 여성\\r\\r모\\r\\r주요채널\\r\\r모바일앱, 웹(PC, 모바일) SNS(Facebook, Kakaostory, Instagram)\\r\\r핵심활동\\r\\r뷰티브랜드 통합홍보대행, PB 제품 개발 및 판매, 수출, 인플루언서 마케팅\\r\\r후속투자\\r\\r99억원\\r\\r고용창출\\r\\r(선정당시) 4명\\r\\r업\\r개\\r\\r델\\r\\r요\\r\\r논문 및 특허 (특허) 국내외 출원 및 등록 4건\\r투자실적\\r\\r주요성과\\r\\r기\\r\\r프라이머 투자 유치('13년 2월)\\r\\r타 팁스 수출부문 장관상 수상 및 포스트팁스 선정\\r\\r부비부비립 100만개 판매 및 일본/싱가포르/미국 등 총 15개국 수출\\r한국 랄라블라, 롭스, 부츠, 아리따움, 롯데면세점 입점\\rPB 제품 출시 및 올리브영 전점 입점(17.4월)\\r독일 바이어스도르프 사 스타트업 최초 투자(19.12월)\\r구글플레이 2014 BEST 앱(뷰티앱 유일), 인기개발자 선정(14.12월)\\r\\r제\\r품\\rㆍ\\r서\\r비\\r스\\r사\\r진\\r\\r? TECH INCUBATOR PROGRAM FOR STARTUP\"]"
      ]
     },
     "execution_count": 3,
     "metadata": {},
     "output_type": "execute_result"
    }
   ],
   "source": [
    "## 실제로 데이터가 보이는지 확인\n",
    "input_list"
   ]
  },
  {
   "cell_type": "code",
   "execution_count": 17,
   "metadata": {},
   "outputs": [],
   "source": [
    "OPENAI_KEY = \"\"\n",
    "\n",
    "client = OpenAI(\n",
    "  api_key=OPENAI_KEY,\n",
    ")"
   ]
  },
  {
   "cell_type": "code",
   "execution_count": 18,
   "metadata": {},
   "outputs": [],
   "source": [
    "gpt_functions_2 = [\n",
    "    {\n",
    "        'name': 'extract_company_info',\n",
    "        'description': 'Get the company information from the body of the input text. information should be in korean',\n",
    "        'parameters': {\n",
    "            'type': 'object',\n",
    "            'properties': {\n",
    "                'business_name': {\n",
    "                    'type': 'string',\n",
    "                    'description': 'Official registered business name.'\n",
    "                },\n",
    "\n",
    "                'email': {\n",
    "                    'type': 'string',\n",
    "                    'format': 'email',\n",
    "                    'description': 'Contact email address for the company.'\n",
    "                },\n",
    "                'representative': {\n",
    "                    'type': 'string',\n",
    "                    'description': 'Name of the company representative.'\n",
    "                },\n",
    "                'website': {\n",
    "                    'type': 'string',\n",
    "                    'description': 'Official website of the company.'\n",
    "                },\n",
    "\n",
    "                'establishment_date': {\n",
    "                    'type': 'string',  # Could be 'date' in specific formats\n",
    "                    'description': 'The date when the company was established.'\n",
    "                },\n",
    "\n",
    "                'location': {\n",
    "                    'type': 'string',\n",
    "                    'description': 'Location of the company headquarters.'\n",
    "                },\n",
    "                'business_model': {\n",
    "                    'type': 'string',\n",
    "                    'description': 'The business model used by the company.'\n",
    "                },\n",
    "                'business_stage': {\n",
    "                    'type': 'string',\n",
    "                    'description': 'Current stage of business operations.'\n",
    "                },\n",
    "                'business_content': {\n",
    "                    'type': 'string',\n",
    "                    'description': 'Description of the business activities.'\n",
    "                },\n",
    "                'industry_field': {\n",
    "                    'type': 'string',\n",
    "                    'description': 'industry or field of the business.'\n",
    "                },\n",
    "\n",
    "\n",
    "\n",
    "            }\n",
    "        }\n",
    "    }\n",
    "]"
   ]
  },
  {
   "cell_type": "code",
   "execution_count": 13,
   "metadata": {},
   "outputs": [
    {
     "name": "stdout",
     "output_type": "stream",
     "text": [
      "{'business_name': '엔트리움', 'email': 'snuven@ntrium.com', 'representative': '정세영', 'establishment_date': '2013. 2. 1', 'website': 'www.ntrium.com', 'location': '경기 화성시', 'business_content': '나노융합소재 연구개발을 주요 사업으로 하며, 핵심 나노소재 기술을 보유하고 있습니다. 주요 제품은 비등방성 전도성 접착필름(ACF)용 도전성 입자 국산화입니다. 또한, EMI 차폐소재 등을 개발하여 수익을 창출하고 있습니다. 주요 고객사로는 SK하이닉스, UPAK(대만), SUNA(중국), 삼성전자, 앰코코리아, 애플 등이 포함되어 있습니다.', 'industry_field': '전기ㆍ전자 - 디스플레이 - 디스플레이 부품 및 소재', 'business_model': 'B2B 거래', 'business_stage': '시리즈 B : 시장확대'}\n",
      "{'business_name': '프라센', 'representative': '우효준', 'website': 'www.frasen.com', 'establishment_date': '2010. 3. 8', 'email': 'hyojunwoo@frasen.com', 'location': '서울 강남구', 'business_content': '지식서비스 - 부가가치/사후관리서비스 - 문화-의료-환경기반 지식표현/지능형 융합서비스기술', 'industry_field': '기술/헬스케어/서비스', 'business_model': 'B2B, B2C', 'business_stage': '시리즈 A : 시장출시'}\n",
      "{'business_name': '위브랩', 'email': 'dkim@wivlabs.com', 'representative': '김동욱', 'website': 'www.wivlabs.com', 'establishment_date': '2013. 8. 6', 'location': '서울 강남구 (팁스타운)', 'business_model': '광고 플랫폼 이용 수수료', 'business_stage': '사업화 단계 시리즈 B : 시장확대', 'business_content': '- 소셜 Q&A 서비스 개발\\n- 페이스북 DB를 기반으로 한 자동 Audience Targeting 생성 프로세스 개발\\n- 자동 Audience Targeting 생성 프로세스를 기반으로 페이스북 광고 플랫폼 시스템 개발', 'industry_field': '정보통신, 소프트웨어, Internet SW'}\n",
      "{'business_name': '시옷플랫폼', 'email': 'sejung.oh@siotplatform.com', 'representative': '오세종', 'website': 'N/A', 'establishment_date': '2010. 8. 8', 'location': '대전 유성구 (카이스트 BI)', 'business_model': 'N/A', 'business_stage': '사업화 단계 시리즈 B : 회수', 'business_content': '지능형 무선 복합 인식시스템 개발', 'industry_field': '전기전자, 계측기기, 안전감시/진단 계측제어기'}\n",
      "{'business_name': '에이스틴', 'email': 'hwang@a-stin.com', 'representative': '황대일', 'website': 'N/A', 'establishment_date': '2013. 10. 22', 'location': '대전 유성구', 'industry_field': '화학 / 정밀화학 / 화장품 소재', 'business_content': '자외선 차단 화장품용 유/무기 하이브리드 복합체 설계 및 제조 기술 개발', 'business_model': '주요고객 국내외 화장품 제조업체, 주요채널 국내 화장품제조사에 직접영업 및 지역별 에이전트를 통한 해외판매, 국내외 전시회 참가', 'business_stage': '시리즈 A : BM 고도화'}\n",
      "{'business_name': '크레스프리', 'email': 'andrea.kwon@cresprit.com', 'representative': '권진만', 'establishment_date': '2013. 2. 20', 'website': 'www.cresprit.com', 'location': '경기 성남시', 'business_stage': '시리즈 B : 시장확대', 'industry_field': '정보통신 - U-컴퓨팅 - U-컴퓨팅 플랫홈 및 응용기술', 'business_content': \"JavaScript 기반 Smart Device 개발을 위한 플랫폼 구현. CRESPRIT는 '아이디어의 제품화'라는 컨셉으로 다양한 제품들에 지능과 네트워크를 접목하기 위한 IoT 기술 요소들을 제공하는 IoT 플랫폼을 개발합니다.\", 'business_model': '산업용 Speedy One-Stop 팩키지 제공 및 판매', 'del_noun': '논문 및 특허 (특허) 국내외 출원 및 등록 13건'}\n",
      "{'business_name': '다노', 'representative': '정범윤', 'website': 'www.dano.me', 'establishment_date': '2013. 7. 11', 'email': 'bmbr@dano.me', 'location': '서울 마포구', 'business_model': '다이어트 관련 개인화 추천 컨텐츠 및 관리 시스템', 'business_stage': '시리즈 B : 시장확대', 'business_content': '주단위로 운동, 식이 상담을 제공하는 앱 서비스 개발 - 다노샵(F&B) : 평생 식습관을 위한 건강 식품 생산, 판매 사업 - 마이다노(Fitness) : 온라인 퍼스널 트레이너 프로그램. 실시간으로 코치와 소통하며 다이어트를 코칭 받는 온라인 서비스', 'industry_field': '정보통신, 디지털 컨텐츠, 디지털 콘텐츠 제작 및 유통'}\n",
      "{'business_name': '키즈노트', 'representative': '최장욱', 'website': 'www.kidsnote.com', 'establishment_date': '2012. 4. 26', 'email': 'jykim@kidsnote.com', 'location': '서울 서초구', 'business_model': '부가가치/사후관리서비스 - 제품-서비스 유지/운영/사후관리', 'business_stage': '시리즈 B : 회수 (M&A)', 'business_content': '영유아 기관 전용 모바일 기반의 ERP 시스템 구축', 'industry_field': '지식서비스', 'revenue': '140억원', 'employees': '115명'}\n",
      "{'business_name': '헬스브리즈', 'email': 'founder@healthbreeze.com', 'representative': '정희두', 'website': 'www.healthbreeze.com', 'establishment_date': '2009. 5. 18', 'location': '서울 금천구', 'business_model': '지식서비스, 부가가치사후관리서비스', 'business_stage': '시리즈 A: 시장출시', 'business_content': '글로벌 애니메이션 설명처방 시스템 개발 및 사업화. 의료진의 업무효율성 상승, 환자의 이해도와 만족도 증진을 위해 병원 및 의료기관에 애니메이션 형식의 의료정보를 제공하는 서비스.', 'industry_field': '의료정보 기술, 의료 서비스', 'revenue_sources': '병원애니메이션 사용료 및 전송료, 의학회 이러닝/맞춤형 광고', 'key_clients': '의료진(병원, 의사, 간호사), 의학회, 제약회사, 의료기기회사', 'major_channels': 'HealthBreeze App., 의료정보 시스템용 API, 의학회 이러닝 사이트', 'core_activities': 'Medical Animation 제작, 애니메이션 설명처방 시스템 개발', 'expansion': '북경의대출판부 자회사 MedTime과 중국 총판 계약체결(2018. 04)', 'investment': '15.5억원', 'employees': \"(선정당시) 12명 -> ('22) 16명\", 'patents': '국내외 출원 및 등록 1건', 'revenue': '13억원'}\n",
      "{'business_name': '라이클', 'representative': '전지훈', 'website': 'www.unpa.co.kr', 'email': 'leo.jeon@lycl.co.kr', 'establishment_date': '2014.2', 'location': '서울 강남구', 'business_model': '뷰티 SNS 기반 화장품 소셜 리뷰 서비스', 'business_stage': '시리즈 B : 시장확대', 'business_content': '뷰티 버티컬 SNS를 이용한 화장품 소셜 리뷰 서비스로, 양질의 리뷰를 모으고 상업적인 리뷰를 걸러내며 개인에게 맞는 리뷰를 추천하는 기술을 통해 화장품 정보를 제공합니다.', 'industry_field': '정보통신, 디지털 콘텐츠, 디지털 콘텐츠 제작 및 유통'}\n"
     ]
    }
   ],
   "source": [
    "\n",
    "processed_list = []\n",
    "for item in input_list:\n",
    "    response = client.chat.completions.create(\n",
    "        model = 'gpt-3.5-turbo',\n",
    "        messages = [{'role': 'user', 'content': item}],\n",
    "        functions = gpt_functions_2,\n",
    "        function_call = 'auto'\n",
    "    )\n",
    "\n",
    "    # Loading the response as a JSON object\n",
    "    json_response = json.loads(response.choices[0].message.function_call.arguments)\n",
    "    processed_list.append(json_response)\n",
    "    print(json_response)\n",
    "\n",
    "df = pd.DataFrame(processed_list)\n",
    "df.to_excel(\"gpt3.5_3.xlsx\")"
   ]
  },
  {
   "cell_type": "code",
   "execution_count": 14,
   "metadata": {},
   "outputs": [],
   "source": []
  }
 ],
 "metadata": {
  "kernelspec": {
   "display_name": "Python 3",
   "language": "python",
   "name": "python3"
  },
  "language_info": {
   "codemirror_mode": {
    "name": "ipython",
    "version": 3
   },
   "file_extension": ".py",
   "mimetype": "text/x-python",
   "name": "python",
   "nbconvert_exporter": "python",
   "pygments_lexer": "ipython3",
   "version": "3.11.4"
  }
 },
 "nbformat": 4,
 "nbformat_minor": 2
}
